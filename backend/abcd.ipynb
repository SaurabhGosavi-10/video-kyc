{
 "cells": [
  {
   "cell_type": "code",
   "execution_count": 5,
   "id": "4d1d3365",
   "metadata": {},
   "outputs": [
    {
     "name": "stdout",
     "output_type": "stream",
     "text": [
      "\u001b[31mERROR: pip's dependency resolver does not currently take into account all the packages that are installed. This behaviour is the source of the following dependency conflicts.\n",
      "tables 3.8.0 requires blosc2~=2.0.0, which is not installed.\n",
      "gensim 4.3.0 requires FuzzyTM>=0.4.0, which is not installed.\n",
      "numba 0.57.0 requires numpy<1.25,>=1.21, but you have numpy 2.3.3 which is incompatible.\n",
      "opencv-python-headless 4.12.0.88 requires numpy<2.3.0,>=2; python_version >= \"3.9\", but you have numpy 2.3.3 which is incompatible.\u001b[0m\u001b[31m\n",
      "\u001b[0mNote: you may need to restart the kernel to use updated packages.\n",
      "Note: you may need to restart the kernel to use updated packages.\n"
     ]
    }
   ],
   "source": [
    "%pip install --upgrade numpy -q\n",
    "%pip install --upgrade scikit-image -q\n"
   ]
  },
  {
   "cell_type": "code",
   "execution_count": 6,
   "id": "59c22e7e",
   "metadata": {},
   "outputs": [
    {
     "name": "stdout",
     "output_type": "stream",
     "text": [
      "\u001b[31mERROR: pip's dependency resolver does not currently take into account all the packages that are installed. This behaviour is the source of the following dependency conflicts.\n",
      "tables 3.8.0 requires blosc2~=2.0.0, which is not installed.\n",
      "gensim 4.3.0 requires FuzzyTM>=0.4.0, which is not installed.\n",
      "numba 0.57.0 requires numpy<1.25,>=1.21, but you have numpy 2.2.6 which is incompatible.\u001b[0m\u001b[31m\n",
      "\u001b[0mNote: you may need to restart the kernel to use updated packages.\n"
     ]
    }
   ],
   "source": [
    "%pip install easyocr -q"
   ]
  },
  {
   "cell_type": "code",
   "execution_count": 49,
   "id": "b670ad0a",
   "metadata": {},
   "outputs": [
    {
     "name": "stdout",
     "output_type": "stream",
     "text": [
      "['314a7]fTDJT', 'HRT', 'Trerr', 'INCOME TAX DEPARTMENT', 'GOVT OF INDIA', 'VINAY CHANDRA ALOFS', 'SESHACHAR', '02/09/1981', 'Permanent Account Number', 'AQDPA68TSA', 'iknz Ckuku', 'Signature', 'L', 'ek']\n"
     ]
    }
   ],
   "source": [
    "import easyocr\n",
    "\n",
    "reader = easyocr.Reader(['en'], gpu=True) # Set gpu=False if no GPU is available\n",
    "\n",
    "results = reader.readtext('/Users/saurabhsachingosavi/video-kyc/5.jpg')\n",
    "\n",
    "results\n",
    "\n",
    "texts = [res[1] for res in results]\n",
    "\n",
    "print(texts)"
   ]
  },
  {
   "cell_type": "code",
   "execution_count": null,
   "id": "9933e7ef",
   "metadata": {},
   "outputs": [],
   "source": []
  },
  {
   "cell_type": "code",
   "execution_count": 31,
   "id": "9c554176",
   "metadata": {},
   "outputs": [
    {
     "name": "stdout",
     "output_type": "stream",
     "text": [
      "14\n"
     ]
    }
   ],
   "source": [
    "import easyocr\n",
    "\n",
    "reader = easyocr.Reader(['en'], gpu=True) # Set gpu=False if no GPU is available\n",
    "\n",
    "results = reader.readtext('/Users/saurabhsachingosavi/video-kyc/5.jpg')\n",
    "\n",
    "results\n",
    "\n",
    "texts = [res[1] for res in results]\n",
    "\n",
    "print(len(texts))\n",
    "\n"
   ]
  },
  {
   "cell_type": "code",
   "execution_count": 44,
   "id": "b45db442",
   "metadata": {},
   "outputs": [
    {
     "name": "stdout",
     "output_type": "stream",
     "text": [
      "Kuch bhi nahi hai\n",
      "True\n",
      "True\n",
      "True\n",
      "True\n",
      "True\n",
      "True\n",
      "True\n",
      "True\n",
      "True\n",
      "True\n",
      "True\n",
      "True\n",
      "True\n"
     ]
    }
   ],
   "source": [
    "text_clean = text.strip()\n",
    "\n",
    "if \"Name\" in text_clean or \"Father\" in text_clean:\n",
    "    print(\"Kuch toh hai\")\n",
    "else:\n",
    "    print(\"Kuch bhi nahi hai\")\n",
    "\n",
    "len(results)\n",
    "\n",
    "for i, text in enumerate(results):\n",
    "    text_clean = text.strip()\n",
    "    if i+1 < len(results):\n",
    "        print(\"True\")"
   ]
  },
  {
   "cell_type": "code",
   "execution_count": 39,
   "id": "003237e8",
   "metadata": {},
   "outputs": [
    {
     "name": "stdout",
     "output_type": "stream",
     "text": [
      "{'Name': None, \"Father's Name\": None, 'Date Of Birth': '03/12/1982', 'PAN Number': 'AFEPT9994D'}\n"
     ]
    }
   ],
   "source": [
    "import re\n",
    "\n",
    "results = texts\n",
    "\n",
    "final_data = {\n",
    "    \"Name\": None,\n",
    "    \"Father's Name\": None,\n",
    "    \"Date Of Birth\": None,\n",
    "    \"PAN Number\": None\n",
    "}\n",
    "\n",
    "for i, text in enumerate(results):\n",
    "    text_clean = text.strip()\n",
    "\n",
    "    # PAN number (regex: 5 letters + 4 digits + 1 letter)\n",
    "    if final_data[\"PAN Number\"] is None and len(text_clean) == 10 and text_clean.isalnum():\n",
    "        final_data[\"PAN Number\"] = text_clean\n",
    "\n",
    "    # Date of Birth (dd/mm/yyyy)\n",
    "    if final_data[\"Date Of Birth\"] is None and re.match(r'^\\d{2}/\\d{2}/\\d{4}$', text_clean):\n",
    "        final_data[\"Date Of Birth\"] = text_clean\n",
    "\n",
    "    # Name (look for keyword \"Name\")\n",
    "    if \"Name\" in text_clean and \"Father\" not in text_clean and i+1 < len(results):\n",
    "        final_data[\"Name\"] = results[i+1].strip()\n",
    "\n",
    "    # Father's Name\n",
    "    if \"Father\" in text_clean and i+1 < len(results):\n",
    "        final_data[\"Father's Name\"] = results[i+1].strip()\n",
    "\n",
    "print(final_data)\n"
   ]
  },
  {
   "cell_type": "code",
   "execution_count": 48,
   "id": "068408d0",
   "metadata": {},
   "outputs": [
    {
     "name": "stdout",
     "output_type": "stream",
     "text": [
      "{'Name': None, \"Father's Name\": None, 'Date Of Birth': '02/09/1981', 'PAN Number': None}\n"
     ]
    }
   ],
   "source": [
    "import re\n",
    "\n",
    "def extract_pan_details(results):\n",
    "    final_data = {\n",
    "        \"Name\": None,\n",
    "        \"Father's Name\": None,\n",
    "        \"Date Of Birth\": None,\n",
    "        \"PAN Number\": None\n",
    "    }\n",
    "\n",
    "    # Join all text blocks into one searchable string\n",
    "    text_blocks = [t.strip() for t in results if isinstance(t, str)]\n",
    "    joined_text = \" \".join(text_blocks)\n",
    "\n",
    "    # PAN Number: 5 letters + 4 digits + 1 letter\n",
    "    pan_match = re.search(r'\\b([A-Z]{5}[0-9]{4}[A-Z])\\b', joined_text)\n",
    "    if pan_match:\n",
    "        final_data[\"PAN Number\"] = pan_match.group(1)\n",
    "\n",
    "    # Date of Birth: dd/mm/yyyy\n",
    "    dob_match = re.search(r'\\b(\\d{2}/\\d{2}/\\d{4})\\b', joined_text)\n",
    "    if dob_match:\n",
    "        final_data[\"Date Of Birth\"] = dob_match.group(1)\n",
    "\n",
    "    # Search by keywords for Name\n",
    "    for i, text in enumerate(text_blocks):\n",
    "        if re.search(r'\\bName\\b', text, re.IGNORECASE) and \"Father\" not in text:\n",
    "            if i+1 < len(text_blocks):\n",
    "                final_data[\"Name\"] = text_blocks[i+1]\n",
    "        if re.search(r'Father', text, re.IGNORECASE):\n",
    "            if i+1 < len(text_blocks):\n",
    "                final_data[\"Father's Name\"] = text_blocks[i+1]\n",
    "\n",
    "    return final_data\n",
    "\n",
    "\n",
    "# Example usage\n",
    "results = texts\n",
    "print(extract_pan_details(results))\n"
   ]
  },
  {
   "cell_type": "code",
   "execution_count": 68,
   "id": "94869f5b",
   "metadata": {},
   "outputs": [
    {
     "name": "stdout",
     "output_type": "stream",
     "text": [
      "['HRA rarr', 'EHEx', 'f[', 'GOVT. OF INDIA', 'McoyEtax DEPARTMENT', 'SATYANARAYAN Bisoi', 'KUMUDA CHANDRA BISOI', '26/01/4981', 'Peniaflent Account Number', 'AVEPBO29SM', 'Bcf', 'Dtfer', 'Igpature', 'Te']\n"
     ]
    }
   ],
   "source": [
    "import easyocr\n",
    "\n",
    "reader = easyocr.Reader(['en'], gpu=True) # Set gpu=False if no GPU is available\n",
    "\n",
    "results = reader.readtext('/Users/saurabhsachingosavi/video-kyc/4_contrast.jpg')\n",
    "\n",
    "results\n",
    "\n",
    "texts = [res[1] for res in results]\n",
    "\n",
    "print(texts)"
   ]
  },
  {
   "cell_type": "code",
   "execution_count": 69,
   "id": "16d79ad0",
   "metadata": {},
   "outputs": [
    {
     "name": "stdout",
     "output_type": "stream",
     "text": [
      "{'Name': 'KUMUDA CHANDRA BISOI', \"Father's Name\": None, 'Date Of Birth': '26/01/4981', 'PAN Number': None}\n"
     ]
    }
   ],
   "source": [
    "import re\n",
    "from difflib import get_close_matches\n",
    "\n",
    "results = texts\n",
    "\n",
    "final_data = {\n",
    "    \"Name\": None,\n",
    "    \"Father's Name\": None,\n",
    "    \"Date Of Birth\": None,\n",
    "    \"PAN Number\": None\n",
    "}\n",
    "\n",
    "# Common PAN card headers to ignore\n",
    "ignore_words = [\n",
    "    \"INCOME TAX DEPARTMENT\",\n",
    "    \"GOVT: OF INDIA\",\n",
    "    \"GOVT OF INDIA\",\n",
    "    \"PERMANENT ACCOUNT NUMBER CARD\",\n",
    "    \"INCOME TAX\",\n",
    "    \"GOVERNMENT OF INDIA\"\n",
    "]\n",
    "\n",
    "name_candidates = []\n",
    "\n",
    "for text in results:\n",
    "    text_clean = text.strip()\n",
    "\n",
    "    # PAN number (regex: 5 letters + 4 digits + 1 letter)\n",
    "    if final_data[\"PAN Number\"] is None and re.match(r'^[A-Z]{5}[0-9]{4}[A-Z]$', text_clean):\n",
    "        final_data[\"PAN Number\"] = text_clean\n",
    "\n",
    "    # Date of Birth (dd/mm/yyyy)\n",
    "    if final_data[\"Date Of Birth\"] is None and re.match(r'^\\d{2}/\\d{2}/\\d{4}$', text_clean):\n",
    "        final_data[\"Date Of Birth\"] = text_clean\n",
    "\n",
    "    # Candidate for Name/Father’s Name (all caps, 2+ words, not in ignore list)\n",
    "    is_upper_name = text_clean.isupper() and len(text_clean.split()) >= 2\n",
    "\n",
    "    # Fuzzy match with ignore list\n",
    "    ignore_match = get_close_matches(text_clean, ignore_words, n=1, cutoff=0.5)\n",
    "\n",
    "    if is_upper_name and not ignore_match:\n",
    "        name_candidates.append(text_clean)\n",
    "\n",
    "# Assign names if candidates found\n",
    "if name_candidates:\n",
    "    final_data[\"Name\"] = name_candidates[0]\n",
    "    if len(name_candidates) > 1:\n",
    "        final_data[\"Father's Name\"] = name_candidates[1]\n",
    "\n",
    "print(final_data)\n"
   ]
  },
  {
   "cell_type": "code",
   "execution_count": null,
   "id": "ee92379e",
   "metadata": {},
   "outputs": [],
   "source": []
  }
 ],
 "metadata": {
  "kernelspec": {
   "display_name": "base",
   "language": "python",
   "name": "python3"
  },
  "language_info": {
   "codemirror_mode": {
    "name": "ipython",
    "version": 3
   },
   "file_extension": ".py",
   "mimetype": "text/x-python",
   "name": "python",
   "nbconvert_exporter": "python",
   "pygments_lexer": "ipython3",
   "version": "3.11.4"
  }
 },
 "nbformat": 4,
 "nbformat_minor": 5
}
